{
 "cells": [
  {
   "cell_type": "code",
   "execution_count": 1,
   "metadata": {},
   "outputs": [],
   "source": [
    "import httpx"
   ]
  },
  {
   "cell_type": "code",
   "execution_count": null,
   "metadata": {},
   "outputs": [],
   "source": [
    "json_data = {\n",
    "    'create': {\n",
    "        'name': 'search',\n",
    "        'configSet': 'search',\n",
    "    },\n",
    "}\n",
    "\n",
    "response = httpx.post('http://localhost:8983/api/cores', json=json_data)"
   ]
  }
 ],
 "metadata": {
  "kernelspec": {
   "display_name": "Python 3.10.4 ('venv': venv)",
   "language": "python",
   "name": "python3"
  },
  "language_info": {
   "codemirror_mode": {
    "name": "ipython",
    "version": 3
   },
   "file_extension": ".py",
   "mimetype": "text/x-python",
   "name": "python",
   "nbconvert_exporter": "python",
   "pygments_lexer": "ipython3",
   "version": "3.10.4"
  },
  "orig_nbformat": 4,
  "vscode": {
   "interpreter": {
    "hash": "bc169949ca3e322f1af6625ceffb34f5b55cf9dc4c67928e5b7fd1cd6c09c273"
   }
  }
 },
 "nbformat": 4,
 "nbformat_minor": 2
}
