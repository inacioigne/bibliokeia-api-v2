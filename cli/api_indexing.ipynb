{
 "cells": [
  {
   "cell_type": "code",
   "execution_count": 44,
   "metadata": {},
   "outputs": [],
   "source": [
    "import httpx\n",
    "import json"
   ]
  },
  {
   "cell_type": "code",
   "execution_count": 2,
   "metadata": {},
   "outputs": [],
   "source": [
    "record = httpx.get(f'http://localhost:8000/cataloguing/item/1').json()"
   ]
  },
  {
   "cell_type": "code",
   "execution_count": 7,
   "metadata": {},
   "outputs": [
    {
     "data": {
      "text/plain": [
       "{'082': {'indicators': {'Ind1': '1', 'Ind2': ' '}, 'subfields': {'a': '001'}},\n",
       " '090': {'indicators': {'Ind1': '_', 'Ind2': '_'},\n",
       "  'subfields': {'a': '001 P831c'}},\n",
       " '100': {'indicators': {'Ind1': '1', 'Ind2': ' '},\n",
       "  'subfields': {'a': 'Popper, Karl Raimund, ',\n",
       "   'c': 'Sir, ',\n",
       "   'd': '1902-1994.'}},\n",
       " '245': {'indicators': {'Ind1': '1', 'Ind2': '0'},\n",
       "  'subfields': {'a': 'Conjecturas e refutações / ',\n",
       "   'c': 'Karl R. Popper; tradução de Sérgio Bath.'}},\n",
       " '260': {'indicators': {'Ind1': ' ', 'Ind2': ' '},\n",
       "  'subfields': {'a': 'Brasília : ',\n",
       "   'b': 'Ed. Universidade de Brasília, ',\n",
       "   'c': '1982.'}},\n",
       " '300': {'indicators': {'Ind1': ' ', 'Ind2': ' '},\n",
       "  'subfields': {'a': '449 p.'}},\n",
       " '490': {'indicators': {'Ind1': '0', 'Ind2': ' '},\n",
       "  'subfields': {'a': 'Pensamento científico ; ', 'v': 'n. 1'}},\n",
       " '500': {'indicators': {'Ind1': ' ', 'Ind2': ' '},\n",
       "  'subfields': {'a': 'Título original: Conjectures and refutations, 4th ed. rev, 1972.'}},\n",
       " '650': [{'indicators': {'Ind1': ' ', 'Ind2': '4'},\n",
       "   'subfields': {'a': 'Ciência', 'x': 'Metodologia.'}},\n",
       "  {'indicators': {'Ind1': ' ', 'Ind2': '0'},\n",
       "   'subfields': {'a': 'Teoria do conhecimento.'}}],\n",
       " '900': {'indicators': {'Ind1': '_', 'Ind2': '_'},\n",
       "  'subfields': {'a': 'Livro'}},\n",
       " '852': {'indicators': {'Ind1': '_', 'Ind2': '_'},\n",
       "  'subfields': {'a': 'Obras gerais', 'c': 'E1.P1'}}}"
      ]
     },
     "execution_count": 7,
     "metadata": {},
     "output_type": "execute_result"
    }
   ],
   "source": [
    "record['datafields']"
   ]
  },
  {
   "cell_type": "code",
   "execution_count": 35,
   "metadata": {},
   "outputs": [
    {
     "data": {
      "text/plain": [
       "{'a': '001 P831c'}"
      ]
     },
     "execution_count": 35,
     "metadata": {},
     "output_type": "execute_result"
    }
   ],
   "source": [
    "record.get('datafields').get('090').get('subfields')"
   ]
  },
  {
   "cell_type": "code",
   "execution_count": 36,
   "metadata": {},
   "outputs": [
    {
     "data": {
      "text/plain": [
       "{'id': 1,\n",
       " 'title': 'Conjecturas e refutações / ',\n",
       " 'subtitle': None,\n",
       " 'responsibilities': 'Karl R. Popper; tradução de Sérgio Bath.',\n",
       " 'author': 'Popper, Karl Raimund, ',\n",
       " 'publisher': 'Ed. Universidade de Brasília, ',\n",
       " 'year': '1982',\n",
       " 'serie': 'Pensamento científico ; ',\n",
       " 'termo_topico': ['Ciência', 'Teoria do conhecimento.'],\n",
       " 'call': '001 P831c',\n",
       " 'type': 'Livro'}"
      ]
     },
     "execution_count": 36,
     "metadata": {},
     "output_type": "execute_result"
    }
   ],
   "source": [
    "\n",
    "year = record.get('datafields').get('260').get('subfields').get('c')[:4]\n",
    "doc = {\n",
    "    'id': record.get('controlfields').get('001'),\n",
    "    'title': record.get('datafields').get('245').get('subfields').get('a'),\n",
    "    'subtitle': record.get('datafields').get('245').get('subfields').get('b'),\n",
    "    'responsibilities': record.get('datafields').get('245').get('subfields').get('c'),\n",
    "    'author': record.get('datafields').get('100').get('subfields').get('a'),\n",
    "    'publisher': record.get('datafields').get('260').get('subfields').get('b'),\n",
    "    'year': year if year else None,\n",
    "    'serie': record.get('datafields').get('490').get('subfields').get('a'),\n",
    "    'termo_topico': [x.get('subfields').get('a') for x in record.get('datafields').get('650')],\n",
    "    'call': record.get('datafields').get('090').get('subfields').get('a'),\n",
    "    'type': 'Livro'\n",
    "}\n",
    "\n",
    "doc"
   ]
  },
  {
   "cell_type": "code",
   "execution_count": 37,
   "metadata": {},
   "outputs": [
    {
     "data": {
      "text/plain": [
       "200"
      ]
     },
     "execution_count": 37,
     "metadata": {},
     "output_type": "execute_result"
    }
   ],
   "source": [
    "solr = httpx.post(\n",
    "    f'http://localhost:8983/solr/acervo/update/json/docs?commit=true', json=doc)\n",
    "\n",
    "solr.status_code"
   ]
  },
  {
   "cell_type": "markdown",
   "metadata": {},
   "source": [
    "GET DATA FROM API"
   ]
  },
  {
   "cell_type": "code",
   "execution_count": null,
   "metadata": {},
   "outputs": [],
   "source": [
    "api = 'http://localhost:8000/cataloguing/item/'\n",
    "r = range(1,19)\n",
    "records = list()\n",
    "for item in r:\n",
    "    record = httpx.get(api+str(item)).json()\n",
    "    records.append(record)\n",
    "    print(item)"
   ]
  },
  {
   "cell_type": "code",
   "execution_count": 50,
   "metadata": {},
   "outputs": [],
   "source": [
    "with open(\"records.json\", \"w\") as file:\n",
    "    json.dump(records, file, indent=4, sort_keys=True)"
   ]
  },
  {
   "cell_type": "markdown",
   "metadata": {},
   "source": [
    "TRANSFORM JSON"
   ]
  },
  {
   "cell_type": "code",
   "execution_count": 61,
   "metadata": {},
   "outputs": [],
   "source": [
    "records_json = list()\n",
    "for record in records:\n",
    "    year = record.get('datafields').get('260').get('subfields').get('c')[:4] \n",
    "    author = record.get('datafields').get('100').get('subfields').get('a') if record.get('datafields').get('100') else None\n",
    "    serie = record.get('datafields').get('490').get('subfields').get('a') if record.get('datafields').get('490') else None \n",
    "    doc = {\n",
    "    'id': record.get('controlfields').get('001'),\n",
    "    'title': record.get('datafields').get('245').get('subfields').get('a'),\n",
    "    'subtitle': record.get('datafields').get('245').get('subfields').get('b'),\n",
    "    'responsibilities': record.get('datafields').get('245').get('subfields').get('c'),\n",
    "    'author': author,\n",
    "    'publisher': record.get('datafields').get('260').get('subfields').get('b'),\n",
    "    'year': year if year else None,\n",
    "    'serie': serie,\n",
    "    'termo_topico': [x.get('subfields').get('a') for x in record.get('datafields').get('650')],\n",
    "    'call': record.get('datafields').get('090').get('subfields').get('a'),\n",
    "    'type': 'Livro'\n",
    "}\n",
    "    records_json.append(doc)"
   ]
  },
  {
   "cell_type": "code",
   "execution_count": 65,
   "metadata": {},
   "outputs": [],
   "source": [
    "with open(\"docs.json\", \"w\", encoding='utf8') as file:\n",
    "    json.dump(records_json, file, indent=4, sort_keys=True, ensure_ascii=False)"
   ]
  },
  {
   "cell_type": "code",
   "execution_count": 66,
   "metadata": {},
   "outputs": [],
   "source": [
    "solr = httpx.post(\n",
    "    f'http://localhost:8983/solr/acervo/update/json/docs', json=records_json)"
   ]
  },
  {
   "cell_type": "code",
   "execution_count": 67,
   "metadata": {},
   "outputs": [
    {
     "data": {
      "text/plain": [
       "<Response [200 OK]>"
      ]
     },
     "execution_count": 67,
     "metadata": {},
     "output_type": "execute_result"
    }
   ],
   "source": [
    "solr"
   ]
  }
 ],
 "metadata": {
  "kernelspec": {
   "display_name": "Python 3.10.4 ('venv': venv)",
   "language": "python",
   "name": "python3"
  },
  "language_info": {
   "codemirror_mode": {
    "name": "ipython",
    "version": 3
   },
   "file_extension": ".py",
   "mimetype": "text/x-python",
   "name": "python",
   "nbconvert_exporter": "python",
   "pygments_lexer": "ipython3",
   "version": "3.10.4"
  },
  "orig_nbformat": 4,
  "vscode": {
   "interpreter": {
    "hash": "bc169949ca3e322f1af6625ceffb34f5b55cf9dc4c67928e5b7fd1cd6c09c273"
   }
  }
 },
 "nbformat": 4,
 "nbformat_minor": 2
}
