{
 "cells": [
  {
   "cell_type": "code",
   "execution_count": 1,
   "metadata": {},
   "outputs": [],
   "source": [
    "import httpx  "
   ]
  },
  {
   "cell_type": "code",
   "execution_count": 15,
   "metadata": {},
   "outputs": [],
   "source": [
    "baseUrl = 'http://localhost:8983/api/cores/acervo/schema/'"
   ]
  },
  {
   "cell_type": "markdown",
   "metadata": {},
   "source": [
    "List Field Types"
   ]
  },
  {
   "cell_type": "code",
   "execution_count": null,
   "metadata": {},
   "outputs": [],
   "source": [
    "response = httpx.get(f'{baseUrl}fieldtypes')\n",
    "response.json()['fieldTypes']"
   ]
  },
  {
   "cell_type": "markdown",
   "metadata": {},
   "source": [
    "List Fields"
   ]
  },
  {
   "cell_type": "code",
   "execution_count": 31,
   "metadata": {},
   "outputs": [
    {
     "data": {
      "text/plain": [
       "{'responseHeader': {'status': 0, 'QTime': 1},\n",
       " 'field': {'name': 'general_search',\n",
       "  'type': 'text_general',\n",
       "  'multiValued': True}}"
      ]
     },
     "execution_count": 31,
     "metadata": {},
     "output_type": "execute_result"
    }
   ],
   "source": [
    "response = httpx.get(f'{baseUrl}fields/general_search')\n",
    "response.json()"
   ]
  },
  {
   "cell_type": "markdown",
   "metadata": {},
   "source": [
    "List Copy Fields"
   ]
  },
  {
   "cell_type": "code",
   "execution_count": 37,
   "metadata": {},
   "outputs": [
    {
     "data": {
      "text/plain": [
       "{'responseHeader': {'status': 0, 'QTime': 0},\n",
       " 'copyFields': [{'source': 'author', 'dest': 'general_search'},\n",
       "  {'source': 'termo_topico', 'dest': 'general_search'},\n",
       "  {'source': 'title', 'dest': 'general_search'},\n",
       "  {'source': 'title', 'dest': 'title_str', 'maxChars': 256},\n",
       "  {'source': 'responsibilities',\n",
       "   'dest': 'responsibilities_str',\n",
       "   'maxChars': 256},\n",
       "  {'source': 'author', 'dest': 'author_str', 'maxChars': 256},\n",
       "  {'source': 'serie', 'dest': 'serie_str', 'maxChars': 256},\n",
       "  {'source': 'publisher', 'dest': 'publisher_str', 'maxChars': 256},\n",
       "  {'source': 'termo_topico', 'dest': 'termo_topico_str', 'maxChars': 256},\n",
       "  {'source': 'type', 'dest': 'type_str', 'maxChars': 256},\n",
       "  {'source': 'subtitle', 'dest': 'subtitle_str', 'maxChars': 256}]}"
      ]
     },
     "execution_count": 37,
     "metadata": {},
     "output_type": "execute_result"
    }
   ],
   "source": [
    "response = httpx.get(f'{baseUrl}copyfields')\n",
    "response.json()"
   ]
  },
  {
   "cell_type": "markdown",
   "metadata": {},
   "source": [
    "#ADD FIELD"
   ]
  },
  {
   "cell_type": "code",
   "execution_count": 25,
   "metadata": {},
   "outputs": [],
   "source": [
    "json_data = {\n",
    "    'add-field': {\n",
    "        'name': 'general_search',\n",
    "        'type': 'text_general',\n",
    "        'stored': True,\n",
    "        'indexed': True\n",
    "    },\n",
    "}\n",
    "\n",
    "response = httpx.post(baseUrl, json=json_data)\n",
    "response.json()"
   ]
  },
  {
   "cell_type": "code",
   "execution_count": 42,
   "metadata": {},
   "outputs": [
    {
     "data": {
      "text/plain": [
       "200"
      ]
     },
     "execution_count": 42,
     "metadata": {},
     "output_type": "execute_result"
    }
   ],
   "source": [
    "json_data = {\n",
    "    'add-field': {\n",
    "        'name': 'call',\n",
    "        'type': 'string',\n",
    "        'stored': True,\n",
    "        'indexed': False\n",
    "    },\n",
    "}\n",
    "\n",
    "response = httpx.post(baseUrl, json=json_data)\n",
    "response.status_code"
   ]
  },
  {
   "cell_type": "markdown",
   "metadata": {},
   "source": [
    "Replace a Field"
   ]
  },
  {
   "cell_type": "code",
   "execution_count": 30,
   "metadata": {},
   "outputs": [
    {
     "data": {
      "text/plain": [
       "{'responseHeader': {'status': 0, 'QTime': 433}}"
      ]
     },
     "execution_count": 30,
     "metadata": {},
     "output_type": "execute_result"
    }
   ],
   "source": [
    "json_data = {\n",
    "    'replace-field': {\n",
    "        'name': 'general_search',\n",
    "        'type': 'text_general',\n",
    "        'multiValued': True,\n",
    "    },\n",
    "}\n",
    "\n",
    "response = httpx.post(baseUrl, json=json_data)\n",
    "response.json()"
   ]
  },
  {
   "cell_type": "code",
   "execution_count": 47,
   "metadata": {},
   "outputs": [
    {
     "data": {
      "text/plain": [
       "200"
      ]
     },
     "execution_count": 47,
     "metadata": {},
     "output_type": "execute_result"
    }
   ],
   "source": [
    "json_data = {\n",
    "    'replace-field': {\n",
    "        'name': 'title',\n",
    "        'type': 'text_pt'\n",
    "    },\n",
    "}\n",
    "\n",
    "response = httpx.post(baseUrl, json=json_data)\n",
    "response.status_code"
   ]
  },
  {
   "cell_type": "code",
   "execution_count": 44,
   "metadata": {},
   "outputs": [
    {
     "data": {
      "text/plain": [
       "200"
      ]
     },
     "execution_count": 44,
     "metadata": {},
     "output_type": "execute_result"
    }
   ],
   "source": [
    "json_data = {\n",
    "    'replace-field': {\n",
    "        'name': 'call',\n",
    "        'type': 'text_general'\n",
    "    },\n",
    "}\n",
    "\n",
    "response = httpx.post(baseUrl, json=json_data)\n",
    "response.status_code"
   ]
  },
  {
   "cell_type": "code",
   "execution_count": 45,
   "metadata": {},
   "outputs": [
    {
     "data": {
      "text/plain": [
       "200"
      ]
     },
     "execution_count": 45,
     "metadata": {},
     "output_type": "execute_result"
    }
   ],
   "source": [
    "json_data = {\n",
    "    'replace-field': {\n",
    "        'name': 'termo_topico',\n",
    "        'type': 'text_pt',\n",
    "        'multiValued': True,\n",
    "    },\n",
    "}\n",
    "\n",
    "response = httpx.post(baseUrl, json=json_data)\n",
    "response.status_code"
   ]
  },
  {
   "cell_type": "markdown",
   "metadata": {},
   "source": [
    "Add a New Copy Field Rule"
   ]
  },
  {
   "cell_type": "code",
   "execution_count": 36,
   "metadata": {},
   "outputs": [
    {
     "data": {
      "text/plain": [
       "{'responseHeader': {'status': 0, 'QTime': 464}}"
      ]
     },
     "execution_count": 36,
     "metadata": {},
     "output_type": "execute_result"
    }
   ],
   "source": [
    "json_data = {\n",
    "    'add-copy-field': {\n",
    "        'source': 'termo_topico',\n",
    "        'dest': [\n",
    "            'general_search'\n",
    "        ],\n",
    "    },\n",
    "}\n",
    "\n",
    "response = httpx.post(baseUrl, json=json_data)\n",
    "response.json()"
   ]
  }
 ],
 "metadata": {
  "kernelspec": {
   "display_name": "Python 3.10.4 ('venv': venv)",
   "language": "python",
   "name": "python3"
  },
  "language_info": {
   "codemirror_mode": {
    "name": "ipython",
    "version": 3
   },
   "file_extension": ".py",
   "mimetype": "text/x-python",
   "name": "python",
   "nbconvert_exporter": "python",
   "pygments_lexer": "ipython3",
   "version": "3.10.4"
  },
  "orig_nbformat": 4,
  "vscode": {
   "interpreter": {
    "hash": "bc169949ca3e322f1af6625ceffb34f5b55cf9dc4c67928e5b7fd1cd6c09c273"
   }
  }
 },
 "nbformat": 4,
 "nbformat_minor": 2
}
